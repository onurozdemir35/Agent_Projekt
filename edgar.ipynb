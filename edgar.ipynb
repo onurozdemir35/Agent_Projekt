{
 "cells": [
  {
   "cell_type": "markdown",
   "id": "7a1b9e77",
   "metadata": {},
   "source": [
    "# Intocode Final Project"
   ]
  },
  {
   "cell_type": "markdown",
   "id": "cce38d05",
   "metadata": {},
   "source": [
    "## Project Setup"
   ]
  },
  {
   "cell_type": "markdown",
   "id": "32dfc630",
   "metadata": {},
   "source": [
    "### Importing Dependencies"
   ]
  },
  {
   "cell_type": "code",
   "execution_count": null,
   "id": "1d01701d",
   "metadata": {},
   "outputs": [],
   "source": [
    "import os\n",
    "from dotenv import load_dotenv\n",
    "import edgar"
   ]
  },
  {
   "cell_type": "markdown",
   "id": "a08abf72",
   "metadata": {},
   "source": [
    "### Environment Variables & Project Constants"
   ]
  },
  {
   "cell_type": "code",
   "execution_count": 13,
   "id": "3df78055",
   "metadata": {},
   "outputs": [
    {
     "ename": "AttributeError",
     "evalue": "module 'edgar' has no attribute 'set_identity'",
     "output_type": "error",
     "traceback": [
      "\u001b[31m---------------------------------------------------------------------------\u001b[39m",
      "\u001b[31mAttributeError\u001b[39m                            Traceback (most recent call last)",
      "\u001b[36mCell\u001b[39m\u001b[36m \u001b[39m\u001b[32mIn[13]\u001b[39m\u001b[32m, line 2\u001b[39m\n\u001b[32m      1\u001b[39m COMPANY_CIKS = {\u001b[33m'\u001b[39m\u001b[33mApple\u001b[39m\u001b[33m'\u001b[39m: \u001b[33m'\u001b[39m\u001b[33m0000320193\u001b[39m\u001b[33m'\u001b[39m, \u001b[33m'\u001b[39m\u001b[33mMeta\u001b[39m\u001b[33m'\u001b[39m: \u001b[33m'\u001b[39m\u001b[33m0001326801\u001b[39m\u001b[33m'\u001b[39m, \u001b[33m'\u001b[39m\u001b[33mMicrosoft\u001b[39m\u001b[33m'\u001b[39m: \u001b[33m'\u001b[39m\u001b[33m0000789019\u001b[39m\u001b[33m'\u001b[39m, \u001b[33m'\u001b[39m\u001b[33mNvidia\u001b[39m\u001b[33m'\u001b[39m: \u001b[33m'\u001b[39m\u001b[33m0001045810\u001b[39m\u001b[33m'\u001b[39m, \u001b[33m'\u001b[39m\u001b[33mGoogle\u001b[39m\u001b[33m'\u001b[39m: \u001b[33m'\u001b[39m\u001b[33m0001652044\u001b[39m\u001b[33m'\u001b[39m, \u001b[33m'\u001b[39m\u001b[33mAmazon\u001b[39m\u001b[33m'\u001b[39m: \u001b[33m'\u001b[39m\u001b[33m0001018724\u001b[39m\u001b[33m'\u001b[39m}\n\u001b[32m----> \u001b[39m\u001b[32m2\u001b[39m \u001b[43medgar\u001b[49m\u001b[43m.\u001b[49m\u001b[43mset_identity\u001b[49m(\u001b[33m\"\u001b[39m\u001b[33mfhennidi@gmail.com\u001b[39m\u001b[33m\"\u001b[39m)\n\u001b[32m      3\u001b[39m edgar.Edgar\n\u001b[32m      4\u001b[39m load_dotenv()\n",
      "\u001b[31mAttributeError\u001b[39m: module 'edgar' has no attribute 'set_identity'"
     ]
    }
   ],
   "source": [
    "COMPANY_CIKS = {'Apple': '0000320193', 'Meta': '0001326801', 'Microsoft': '0000789019', 'Nvidia': '0001045810', 'Google': '0001652044', 'Amazon': '0001018724'}\n",
    "edgar.set_identity(\"fhennidi@gmail.com\")\n",
    "edgar.Edgar\n",
    "load_dotenv()"
   ]
  },
  {
   "cell_type": "code",
   "execution_count": 5,
   "id": "9853d4cf",
   "metadata": {},
   "outputs": [
    {
     "ename": "AttributeError",
     "evalue": "module 'edgar' has no attribute 'get_filings'",
     "output_type": "error",
     "traceback": [
      "\u001b[31m---------------------------------------------------------------------------\u001b[39m",
      "\u001b[31mAttributeError\u001b[39m                            Traceback (most recent call last)",
      "\u001b[36mCell\u001b[39m\u001b[36m \u001b[39m\u001b[32mIn[5]\u001b[39m\u001b[32m, line 1\u001b[39m\n\u001b[32m----> \u001b[39m\u001b[32m1\u001b[39m filings = \u001b[43medgar\u001b[49m\u001b[43m.\u001b[49m\u001b[43mget_filings\u001b[49m(year=[\u001b[32m2020\u001b[39m,\u001b[32m2021\u001b[39m,\u001b[32m2022\u001b[39m,\u001b[32m2023\u001b[39m,\u001b[32m2024\u001b[39m,\u001b[32m2025\u001b[39m], form=[\u001b[33m'\u001b[39m\u001b[33m10-K\u001b[39m\u001b[33m'\u001b[39m,\u001b[33m'\u001b[39m\u001b[33m10-Q\u001b[39m\u001b[33m'\u001b[39m]).filter(cik=\u001b[38;5;28mlist\u001b[39m(COMPANY_CIKS.values()))\n",
      "\u001b[31mAttributeError\u001b[39m: module 'edgar' has no attribute 'get_filings'"
     ]
    }
   ],
   "source": [
    "filings = edgar.get_filings(year=[2020,2021,2022,2023,2024,2025], form=['10-K','10-Q']).filter(cik=list(COMPANY_CIKS.values()))"
   ]
  },
  {
   "cell_type": "code",
   "execution_count": null,
   "id": "933530c0",
   "metadata": {},
   "outputs": [],
   "source": [
    "filings[0].text()"
   ]
  },
  {
   "cell_type": "code",
   "execution_count": 61,
   "id": "f4b996fc",
   "metadata": {},
   "outputs": [],
   "source": [
    "with open(\"output.txt\", \"w\", encoding=\"utf-8\") as f:\n",
    "    f.write(filings[0].text())"
   ]
  },
  {
   "cell_type": "code",
   "execution_count": 11,
   "id": "4fa2da67",
   "metadata": {},
   "outputs": [],
   "source": [
    "apple = edgar.Company(COMPANY_CIKS['Apple'])"
   ]
  },
  {
   "cell_type": "code",
   "execution_count": 80,
   "id": "a2e30f38",
   "metadata": {},
   "outputs": [
    {
     "data": {
      "text/html": [
       "<pre style=\"white-space:pre;overflow-x:auto;line-height:normal;font-family:Menlo,'DejaVu Sans Mono',consolas,'Courier New',monospace\"></pre>\n"
      ],
      "text/plain": []
     },
     "metadata": {},
     "output_type": "display_data"
    },
    {
     "data": {
      "text/plain": [
       "\u001b[1;38;5;245m╭─\u001b[0m\u001b[1;38;5;245m─────────────────────────────────────────────────\u001b[0m\u001b[1;38;5;245m SEC Filings \u001b[0m\u001b[1;38;5;245m─────────────────────────────────────────────────\u001b[0m\u001b[1;38;5;245m─╮\u001b[0m\n",
       "\u001b[1;38;5;245m│\u001b[0m                                                                                                                 \u001b[1;38;5;245m│\u001b[0m\n",
       "\u001b[1;38;5;245m│\u001b[0m   \u001b[1m \u001b[0m\u001b[1mForm   \u001b[0m\u001b[1m \u001b[0m \u001b[1m \u001b[0m\u001b[1m       CIK\u001b[0m\u001b[1m \u001b[0m \u001b[1m \u001b[0m\u001b[1mTicker\u001b[0m\u001b[1m \u001b[0m \u001b[1m \u001b[0m\u001b[1mCompany                               \u001b[0m\u001b[1m \u001b[0m \u001b[1m \u001b[0m\u001b[1mFiling Date\u001b[0m\u001b[1m \u001b[0m \u001b[1m \u001b[0m\u001b[1mAccession Number   \u001b[0m\u001b[1m \u001b[0m  \u001b[1;38;5;245m│\u001b[0m\n",
       "\u001b[1;38;5;245m│\u001b[0m  ─────────────────────────────────────────────────────────────────────────────────────────────────────────────  \u001b[1;38;5;245m│\u001b[0m\n",
       "\u001b[1;38;5;245m│\u001b[0m    10-K     \u001b[2m \u001b[0m\u001b[2m   1326801\u001b[0m\u001b[2m \u001b[0m \u001b[33m \u001b[0m\u001b[33mMETA  \u001b[0m\u001b[33m \u001b[0m \u001b[1;32m \u001b[0m\u001b[1;32mMeta Platforms, Inc.                  \u001b[0m\u001b[1;32m \u001b[0m  2022-02-03   \u001b[2m \u001b[0m\u001b[2m0001326801-22-0000…\u001b[0m\u001b[2m \u001b[0m  \u001b[1;38;5;245m│\u001b[0m\n",
       "\u001b[1;38;5;245m│\u001b[0m                                                                                                                 \u001b[1;38;5;245m│\u001b[0m\n",
       "\u001b[1;38;5;245m╰─\u001b[0m\u001b[1;38;5;245m────────────────────────────────\u001b[0m\u001b[1;38;5;245m SEC Filings between 2022-02-03 and 2022-02-03 \u001b[0m\u001b[1;38;5;245m────────────────────────────────\u001b[0m\u001b[1;38;5;245m─╯\u001b[0m"
      ]
     },
     "execution_count": 80,
     "metadata": {},
     "output_type": "execute_result"
    }
   ],
   "source": [
    "filings.filter(form='10-K', cik=COMPANY_CIKS['Meta'], filing_date='2022-01-01:2022-12-31')"
   ]
  },
  {
   "cell_type": "code",
   "execution_count": 4,
   "id": "102732e8",
   "metadata": {},
   "outputs": [],
   "source": [
    "google = edgar.Company(COMPANY_CIKS['Google'])"
   ]
  },
  {
   "cell_type": "code",
   "execution_count": 5,
   "id": "17b263ef",
   "metadata": {},
   "outputs": [],
   "source": [
    "filings = google.get_filings(form='10-K').latest(5)"
   ]
  },
  {
   "cell_type": "code",
   "execution_count": 6,
   "id": "b0f7ef22",
   "metadata": {},
   "outputs": [],
   "source": [
    "import edgar.xbrl\n",
    "\n",
    "\n",
    "xbs = edgar.xbrl.XBRLS.from_filings(filings)"
   ]
  },
  {
   "cell_type": "code",
   "execution_count": null,
   "id": "0455aab1",
   "metadata": {},
   "outputs": [],
   "source": [
    "import pandas as pd\n",
    "\n",
    "a1 = xbs.statements.balance_sheet().to_dataframe()\n",
    "a2 = xbs.statements.cashflow_statement().to_dataframe()\n",
    "a3 = xbs.statements.comprehensive_income().to_dataframe()\n",
    "a4 = xbs.statements.income_statement().to_dataframe()\n",
    "a5 = xbs.statements.statement_of_equity().to_dataframe()\n",
    "combined = pd.concat([a1, a2, a3, a4, a5], ignore_index=True)"
   ]
  },
  {
   "cell_type": "code",
   "execution_count": 23,
   "id": "db3011fd",
   "metadata": {},
   "outputs": [
    {
     "name": "stdout",
     "output_type": "stream",
     "text": [
      "us-gaap_EffectOfExchangeRateOnCashCashEquivalentsRestrictedCashAndRestrictedCashEquivalents\n",
      "us-gaap_CashCashEquivalentsRestrictedCashAndRestrictedCashEquivalentsPeriodIncreaseDecreaseIncludingExchangeRateEffect\n",
      "us-gaap_CashCashEquivalentsRestrictedCashAndRestrictedCashEquivalentsPeriodIncreaseDecreaseIncludingExchangeRateEffect\n",
      "us-gaap_IncomeTaxesPaidNet\n",
      "us-gaap_IncomeTaxesPaidNet\n",
      "us-gaap_PaymentsOfDividends\n",
      "us-gaap_ProceedsFromSaleAndMaturityOfMarketableSecurities\n",
      "us-gaap_ProceedsFromSaleAndMaturityOfOtherInvestments\n",
      "us-gaap_ProceedsFromSaleAndMaturityOfOtherInvestments\n",
      "us-gaap_NetIncomeLoss\n",
      "us-gaap_NetCashProvidedByUsedInOperatingActivities\n",
      "us-gaap_NetCashProvidedByUsedInFinancingActivities\n",
      "us-gaap_NetCashProvidedByUsedInInvestingActivities\n",
      "us-gaap_PaymentsForProceedsFromOtherInvestingActivities\n",
      "us-gaap_ProceedsFromDebtNetOfIssuanceCosts\n",
      "us-gaap_ProceedsFromMinorityShareholders\n",
      "us-gaap_PaymentsToAcquireMarketableSecurities\n",
      "us-gaap_PaymentsToAcquireOtherInvestments\n",
      "us-gaap_PaymentsToAcquireOtherInvestments\n",
      "us-gaap_PaymentsToAcquirePropertyPlantAndEquipment\n",
      "us-gaap_RepaymentsOfDebtAndCapitalLeaseObligations\n",
      "us-gaap_PaymentsForRepurchaseOfCommonStock\n",
      "us-gaap_PaymentsForRepurchaseOfCommonStock\n",
      "us-gaap_PaymentsForRepurchaseOfCommonStock\n",
      "us-gaap_DebtAndEquitySecuritiesGainLoss\n",
      "us-gaap_DeferredIncomeTaxesAndTaxCredits\n",
      "us-gaap_Depreciation\n",
      "us-gaap_DebtAndEquitySecuritiesGainLoss\n",
      "us-gaap_DebtAndEquitySecuritiesGainLoss\n",
      "us-gaap_OtherNoncashIncomeExpense\n",
      "us-gaap_ShareBasedCompensation\n",
      "us-gaap_IncreaseDecreaseInAccountsPayable\n",
      "us-gaap_IncreaseDecreaseInAccountsReceivable\n",
      "us-gaap_IncreaseDecreaseInAccountsReceivable\n",
      "us-gaap_IncreaseDecreaseInAccruedLiabilities\n",
      "us-gaap_IncreaseDecreaseInIncomeTaxes\n",
      "us-gaap_IncreaseDecreaseInOtherOperatingAssets\n",
      "goog_IncreaseDecreaseInAccruedRevenueShare\n",
      "us-gaap_ComprehensiveIncomeNetOfTax\n",
      "us-gaap_NetIncomeLoss\n",
      "us-gaap_OtherComprehensiveIncomeLossForeignCurrencyTransactionAndTranslationAdjustmentNetOfTax\n",
      "us-gaap_OtherComprehensiveIncomeLossForeignCurrencyTransactionAndTranslationAdjustmentNetOfTax\n",
      "us-gaap_OtherComprehensiveIncomeLossNetOfTaxPortionAttributableToParent\n",
      "us-gaap_OtherComprehensiveIncomeUnrealizedHoldingGainLossOnSecuritiesArisingDuringPeriodNetOfTax\n",
      "us-gaap_OtherComprehensiveIncomeLossCashFlowHedgeGainLossAfterReclassificationAndTax\n",
      "us-gaap_OtherComprehensiveIncomeLossAvailableForSaleSecuritiesAdjustmentNetOfTax\n",
      "us-gaap_OtherComprehensiveIncomeLossAvailableForSaleSecuritiesAdjustmentNetOfTax\n",
      "us-gaap_OtherComprehensiveIncomeLossAvailableForSaleSecuritiesAdjustmentNetOfTax\n",
      "us-gaap_OtherComprehensiveIncomeLossCashFlowHedgeGainLossAfterReclassificationAndTax\n",
      "us-gaap_OtherComprehensiveIncomeLossCashFlowHedgeGainLossAfterReclassificationAndTax\n",
      "us-gaap_OtherComprehensiveIncomeLossAvailableForSaleSecuritiesAdjustmentNetOfTax\n",
      "us-gaap_OtherComprehensiveIncomeLossCashFlowHedgeGainLossAfterReclassificationAndTax\n",
      "us-gaap_OtherComprehensiveIncomeLossCashFlowHedgeGainLossAfterReclassificationAndTax\n",
      "us-gaap_OtherComprehensiveIncomeLossAvailableForSaleSecuritiesAdjustmentNetOfTax\n",
      "us-gaap_IncomeLossFromContinuingOperationsBeforeIncomeTaxesExtraordinaryItemsNoncontrollingInterest\n",
      "us-gaap_OperatingIncomeLoss\n",
      "us-gaap_NetIncomeLoss\n",
      "us-gaap_NonoperatingIncomeExpense\n",
      "us-gaap_IncomeTaxExpenseBenefit\n",
      "us-gaap_RevenueFromContractWithCustomerExcludingAssessedTax\n",
      "us-gaap_IncomeLossFromContinuingOperationsBeforeIncomeTaxesExtraordinaryItemsNoncontrollingInterest\n",
      "us-gaap_LossContingencyLossInPeriod\n",
      "us-gaap_GeneralAndAdministrativeExpense\n",
      "us-gaap_ResearchAndDevelopmentExpense\n",
      "us-gaap_SellingAndMarketingExpense\n",
      "us-gaap_CostsAndExpenses\n",
      "us-gaap_StockIssuedDuringPeriodValueNewIssues\n",
      "us-gaap_StockIssuedDuringPeriodSharesNewIssues\n",
      "us-gaap_AdjustmentsToAdditionalPaidInCapitalDividendsInExcessOfRetainedEarnings\n",
      "us-gaap_NetIncomeLoss\n",
      "us-gaap_OtherComprehensiveIncomeLossNetOfTaxPortionAttributableToParent\n",
      "us-gaap_StockRepurchasedAndRetiredDuringPeriodValue\n",
      "us-gaap_StockRepurchasedAndRetiredDuringPeriodShares\n",
      "us-gaap_StockRepurchasedAndRetiredDuringPeriodValue\n",
      "us-gaap_StockRepurchasedAndRetiredDuringPeriodShares\n",
      "us-gaap_NoncontrollingInterestIncreaseFromSaleOfParentEquityInterest\n",
      "us-gaap_StockIssuedDuringPeriodValueNewIssues\n",
      "us-gaap_AdjustmentsToAdditionalPaidInCapitalSharebasedCompensationRequisiteServicePeriodRecognitionValue\n",
      "us-gaap_AdjustmentsToAdditionalPaidInCapitalSharebasedCompensationRequisiteServicePeriodRecognitionValue\n"
     ]
    }
   ],
   "source": [
    "for concept in combined['concept']:\n",
    "    print(concept)"
   ]
  },
  {
   "cell_type": "code",
   "execution_count": null,
   "id": "9f3ea049",
   "metadata": {},
   "outputs": [],
   "source": [
    "class FinancialPlotter:\n",
    "    ciks = {'Apple': '0000320193', 'Meta': '0001326801', 'Microsoft': '0000789019', 'Nvidia': '0001045810', 'Google': '0001652044'}\n",
    "    pass"
   ]
  },
  {
   "cell_type": "code",
   "execution_count": 175,
   "id": "72cc4f1c",
   "metadata": {},
   "outputs": [],
   "source": [
    "filings = edgar.get_filings(year=[2020,2021,2022,2023,2024,2025], form='10-Q').filter(cik=list(COMPANY_CIKS.values()))"
   ]
  },
  {
   "cell_type": "markdown",
   "id": "8d620aa7",
   "metadata": {},
   "source": []
  }
 ],
 "metadata": {
  "kernelspec": {
   "display_name": ".venv",
   "language": "python",
   "name": "python3"
  },
  "language_info": {
   "codemirror_mode": {
    "name": "ipython",
    "version": 3
   },
   "file_extension": ".py",
   "mimetype": "text/x-python",
   "name": "python",
   "nbconvert_exporter": "python",
   "pygments_lexer": "ipython3",
   "version": "3.12.7"
  }
 },
 "nbformat": 4,
 "nbformat_minor": 5
}
